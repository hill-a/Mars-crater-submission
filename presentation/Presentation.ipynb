{
 "cells": [
  {
   "cell_type": "markdown",
   "metadata": {},
   "source": [
    "# Mars Craters\n",
    "\n",
    "- Detection\n",
    "- OSPA\n",
    "- Multi-crater per images\n",
    "\n",
    "- most submissions -> SSD\n",
    "\n",
    "## Example"
   ]
  },
  {
   "cell_type": "markdown",
   "metadata": {},
   "source": [
    "<img  src=\"craters.png\"/>"
   ]
  },
  {
   "cell_type": "markdown",
   "metadata": {},
   "source": [
    "<img  src=\"workflow.svg\"/>"
   ]
  },
  {
   "cell_type": "markdown",
   "metadata": {},
   "source": [
    "# Mask detection\n",
    "\n",
    "- Unet \n",
    "- Deconv\n",
    "- FCN\n",
    "- SegNet\n",
    "- ..."
   ]
  },
  {
   "cell_type": "markdown",
   "metadata": {},
   "source": [
    "## SegNet"
   ]
  },
  {
   "cell_type": "markdown",
   "metadata": {},
   "source": [
    "<img  src=\"segnet.png\"/>"
   ]
  },
  {
   "cell_type": "markdown",
   "metadata": {},
   "source": [
    "## Alteration - \"skip\""
   ]
  },
  {
   "cell_type": "markdown",
   "metadata": {},
   "source": [
    "Concatenation on output layer of many multi depth SegNet (same weights)"
   ]
  },
  {
   "cell_type": "markdown",
   "metadata": {},
   "source": [
    "## Example"
   ]
  },
  {
   "cell_type": "markdown",
   "metadata": {},
   "source": [
    "<img  src=\"activation.png\"/>"
   ]
  },
  {
   "cell_type": "markdown",
   "metadata": {},
   "source": [
    "## Score"
   ]
  },
  {
   "cell_type": "code",
   "execution_count": null,
   "metadata": {
    "collapsed": false
   },
   "outputs": [],
   "source": [
    "----------------------------\n",
    "Mean CV scores\n",
    "----------------------------\n",
    "    score              ap            madc            madr            ospa         prec(0)       prec(0.5)       prec(0.9)          rec(0)        rec(0.5)  \\\n",
    "    test    0.51 ± 0.0114  0.336 ± 0.0273  0.143 ± 0.0149   0.41 ± 0.0166  0.805 ± 0.1239  0.764 ± 0.1235   0.449 ± 0.089  0.631 ± 0.0703  0.597 ± 0.0609  \n",
    "    train  0.745 ± 0.0535  0.331 ± 0.0052  0.126 ± 0.0018  0.275 ± 0.0292  0.911 ± 0.0552  0.895 ± 0.0528  0.551 ± 0.0496  0.761 ± 0.0616  0.746 ± 0.0647  \n",
    "    valid  0.608 ± 0.0523  0.335 ± 0.0534   0.123 ± 0.032  0.365 ± 0.0392  0.859 ± 0.1377  0.835 ± 0.1349  0.546 ± 0.1647   0.657 ± 0.122  0.639 ± 0.1211  \n",
    "----------------------------\n",
    "Bagged scores\n",
    "----------------------------\n",
    "    score   ospa\n",
    "    test   0.397\n",
    "    valid  0.312"
   ]
  },
  {
   "cell_type": "markdown",
   "metadata": {},
   "source": [
    "# Parsing the mask\n",
    "## The problem"
   ]
  },
  {
   "cell_type": "markdown",
   "metadata": {},
   "source": [
    "<img  src=\"activation.png\"/>"
   ]
  },
  {
   "cell_type": "markdown",
   "metadata": {},
   "source": [
    "## Simple solution\n",
    "\n",
    "for every object (use numpy object detection and labeling) \n",
    "\n",
    "coord: center of all boxes on average\n",
    "\n",
    "radius: Take the mean of the bounding boxes dimensions\n",
    "\n",
    "## slight problem..."
   ]
  },
  {
   "cell_type": "markdown",
   "metadata": {},
   "source": [
    "<img width=300 src=\"zoomed.png\"/>"
   ]
  },
  {
   "cell_type": "markdown",
   "metadata": {},
   "source": [
    "Other problem: Resolution"
   ]
  },
  {
   "cell_type": "markdown",
   "metadata": {},
   "source": [
    "## Center of mass - location\n",
    "\n",
    "Scipy center_of_mass\n",
    "\n",
    "Gets a lot closer to the ground truth, and makes sure for simple concave topology that we are at the location where the Neural Network is the most sure\n"
   ]
  },
  {
   "cell_type": "markdown",
   "metadata": {},
   "source": [
    "## Random Forest - radius\n",
    "\n",
    "Use random forest regressor, on resized area of the images, with the size of the images.\n",
    "\n",
    "Reliably finds the correct radius"
   ]
  },
  {
   "cell_type": "code",
   "execution_count": null,
   "metadata": {
    "collapsed": true
   },
   "outputs": [],
   "source": [
    "Relative MSE - Bounding boxes = 0.64597910275917658\n",
    "\n",
    "Relative MSE - Random Forest  = 0.14267786468438146"
   ]
  },
  {
   "cell_type": "markdown",
   "metadata": {},
   "source": [
    "## Improvement\n",
    "\n",
    "Using a very barebones SegNet, the ospa score goes from 0.75 to 0.68 using this method"
   ]
  }
 ],
 "metadata": {
  "anaconda-cloud": {},
  "kernelspec": {
   "display_name": "Python [default]",
   "language": "python",
   "name": "python3"
  },
  "language_info": {
   "codemirror_mode": {
    "name": "ipython",
    "version": 3
   },
   "file_extension": ".py",
   "mimetype": "text/x-python",
   "name": "python",
   "nbconvert_exporter": "python",
   "pygments_lexer": "ipython3",
   "version": "3.5.2"
  },
  "latex_envs": {
   "bibliofile": "biblio.bib",
   "cite_by": "apalike",
   "current_citInitial": 1,
   "eqLabelWithNumbers": true,
   "eqNumInitial": 0
  },
  "toc": {
   "colors": {
    "hover_highlight": "#DAA520",
    "running_highlight": "#a03d3d",
    "selected_highlight": "#c0ad42"
   },
   "moveMenuLeft": true,
   "nav_menu": {
    "height": "272px",
    "width": "252px"
   },
   "navigate_menu": true,
   "number_sections": true,
   "sideBar": true,
   "threshold": 4,
   "toc_cell": false,
   "toc_section_display": "block",
   "toc_window_display": false
  }
 },
 "nbformat": 4,
 "nbformat_minor": 1
}
